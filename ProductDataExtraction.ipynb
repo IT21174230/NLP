{
  "cells": [
    {
      "cell_type": "code",
      "execution_count": null,
      "metadata": {
        "id": "n2mdqQsv1aMX"
      },
      "outputs": [],
      "source": [
        "from bs4 import BeautifulSoup"
      ]
    },
    {
      "cell_type": "code",
      "execution_count": null,
      "metadata": {
        "id": "1Wr4haTdKXdY"
      },
      "outputs": [],
      "source": [
        "label_arr=['st','ives','cream']\n",
        "\n",
        "\n",
        "\n",
        "def get_urls(labels):\n",
        "  aliex='https://www.aliexpress.com/w/wholesale-'\n",
        "  daraz='https://www.daraz.lk/catalog/?spm=a2a0e.searchlist.search.1.2cbd566duLCt9M&q='\n",
        "\n",
        "\n",
        "  aliprod='-'.join(label_arr)\n",
        "  aliurl=aliex+aliprod+'.html'\n",
        "\n",
        "  darazprod='+'.join(label_arr)\n",
        "  darazurl=daraz+darazprod\n",
        "\n",
        "  return aliurl, darazurl"
      ]
    },
    {
      "cell_type": "code",
      "execution_count": null,
      "metadata": {
        "colab": {
          "base_uri": "https://localhost:8080/"
        },
        "id": "XGAmCgfH2peP",
        "outputId": "d94c4a19-40b9-4ab3-9a09-bceede34cd56"
      },
      "outputs": [
        {
          "name": "stdout",
          "output_type": "stream",
          "text": [
            "https://www.aliexpress.com/w/wholesale-st-ives-cream.html https://www.daraz.lk/catalog/?spm=a2a0e.searchlist.search.1.2cbd566duLCt9M&q=st+ives+cream\n"
          ]
        }
      ],
      "source": [
        "ali, daraz=get_urls(label_arr)\n",
        "\n",
        "print(ali, daraz)"
      ]
    },
    {
      "cell_type": "code",
      "execution_count": null,
      "metadata": {
        "id": "WLCgS0To5cRr"
      },
      "outputs": [],
      "source": [
        "import requests\n",
        "\n",
        "def scraper(url):\n",
        "  response=requests.get(url)\n",
        "\n",
        "  html=response.text\n",
        "\n",
        "  return html"
      ]
    },
    {
      "cell_type": "code",
      "execution_count": null,
      "metadata": {
        "id": "pHS58qtDL6Tl"
      },
      "outputs": [],
      "source": [
        "ali_cont=scraper(ali)\n",
        "daraz_cont=scraper(daraz)"
      ]
    },
    {
      "cell_type": "code",
      "execution_count": null,
      "metadata": {
        "id": "BYVoS-CCMPWC"
      },
      "outputs": [],
      "source": [
        "def scrape_aliexpress(html):\n",
        "  soup = BeautifulSoup(html, 'html.parser')\n",
        "\n",
        "  prod_div = soup.find_all('div', class_='multi--content--11nFIBL')\n",
        "\n",
        "  for prod_ in prod_div:\n",
        "    prod_details = prod_.get_text(separator='\\n')\n",
        "\n",
        "    print(prod_details)\n",
        "    print('---------------')"
      ]
    },
    {
      "cell_type": "code",
      "execution_count": null,
      "metadata": {
        "colab": {
          "base_uri": "https://localhost:8080/"
        },
        "id": "gKvReVTd3-zT",
        "outputId": "af529d01-0ba2-4894-ece1-7d6845331ed2"
      },
      "outputs": [
        {
          "name": "stdout",
          "output_type": "stream",
          "text": [
            "Car Sill Decor Sticker For Ford Fusion Edge Escape Fiesta Ghia Kuga Shelby ST Taurus Auto Threshold Protector Accessories\n",
            " \n",
            "86 sold\n",
            "$\n",
            "0\n",
            ".\n",
            "99\n",
            "Free shipping\n",
            "Carlotan Store\n",
            "---------------\n",
            "Car Rear Bumper Protector Sticker Auto Accessories For Ford Fiesta Mondeo Fusion Escape Shelby Edge Kuga ST Taurus Protection\n",
            " \n",
            "117 sold\n",
            "$\n",
            "0\n",
            ".\n",
            "99\n",
            "Free shipping\n",
            "Carlotan Store\n",
            "---------------\n",
            "2PCS Car Door Side Stickers For Ford Focus MK6 MK7 ST Long Strips Vinyl Film Decals Decoration Stylish Styling Auto Accessories\n",
            " \n",
            "$\n",
            "3\n",
            ".\n",
            "48\n",
            "Free shipping\n",
            "Carlotan Store\n",
            "---------------\n",
            "Metal Red Blue ST Front Grille Sticker Car Head Grill Emblem Badge Chrome Sticker for FORD FIESTA FOCUS MONDEO Auto Car Styling\n",
            " \n",
            "700+ sold\n",
            "$\n",
            "1\n",
            ".\n",
            "02\n",
            "14-day delivery on $5\n",
            "OTOKIT Master-Wheel Store\n",
            "---------------\n",
            "FRESH AND Moist Revitalizing BB Cream Waterproof Easy to Wear Foundation makeup Concealer Facial Cosmetics Whitening cream\n",
            " \n",
            "124 sold\n",
            "$\n",
            "0\n",
            ".\n",
            "99\n",
            "$11.12\n",
            "Welcome deal\n",
            "-\n",
            "91%\n",
            "Free shipping\n",
            "MeiYanQiong-One Store\n",
            "---------------\n",
            "1PCS Solar Power Car Alarm Lamp Security System Warning Theft Flash For Seat LEON ST FR FR+ CUPRA Ibiza Altea Cordoba Toledo\n",
            " \n",
            "9 sold\n",
            "$\n",
            "2\n",
            ".\n",
            "26\n",
            "XX Go Store\n",
            "---------------\n",
            "2pcs Car LED Rear Mirror Light for Ford Fiesta Focus Mondeo Ecosport Kuga Focus ST\n",
            " \n",
            "41 sold\n",
            "$\n",
            "1\n",
            ".\n",
            "27\n",
            "BTLing Store\n",
            "---------------\n",
            "1 Pcs Ambient Lights Car Roof Star Light for Seat LEON ST FR FR+ CUPRA Ibiza Altea Cordoba Toledo Alhambra Arona Ateca\n",
            " \n",
            "57 sold\n",
            "$\n",
            "1\n",
            ".\n",
            "93\n",
            "Shop9165743 Store\n",
            "---------------\n",
            "Car Seat Anti Drop Gap Filler Gap Filling Strip for Ford MK3 MK4 MK5 Fiesta Ecosport Kuga Explorer Edge Mustang 3 4 ST Mondeo\n",
            " \n",
            "12 sold\n",
            "$\n",
            "2\n",
            ".\n",
            "3\n",
            "Shop1102677458 Store\n",
            "---------------\n",
            "OEDO Rose Polypeptide Moist Hand Cream Smoothing Skin Anti-Aging Moisturizing Deeply Improve Drying Skin Care Hand cream\n",
            " \n",
            "9 sold\n",
            "$\n",
            "3\n",
            ".\n",
            "72\n",
            "Extra 5% off with coins\n",
            "Free shipping\n",
            "MeiYanQiong-RtopR-OEDO Factory Store\n",
            "---------------\n"
          ]
        }
      ],
      "source": [
        "scrape_aliexpress(ali_cont)\n"
      ]
    },
    {
      "cell_type": "code",
      "execution_count": null,
      "metadata": {
        "id": "SAfpDXmEBsxa"
      },
      "outputs": [],
      "source": [
        "def scDaraz(html):\n",
        "  soup = BeautifulSoup(html, 'html.parser')\n",
        "  product_info = soup.find('div', class_='info--ifj7U')\n",
        "\n",
        "  if product_info:\n",
        "\n",
        "        link = product_info.find('a', id='id-a-link')\n",
        "        link_text = link.get('title') if link else None\n",
        "\n",
        "\n",
        "        price = product_info.find('div', class_='price--NVB62')\n",
        "        price_text = price.find('span', class_='currency--GVKjl').get_text() if price else None\n",
        "\n",
        "\n",
        "        price_extra = product_info.find('div', class_='priceExtra--ocAYk')\n",
        "        orig_price = price_extra.find('span', class_='origPrice--AJxRs').find('del', class_='currency--GVKjl').get_text() if price_extra else None\n",
        "        discount = price_extra.find('span', class_='discount--HADrg').get_text() if price_extra else None\n",
        "\n",
        "        print(f'link_text:{link_text}\\nprice: {price_text}\\nprice_extra: {orig_price}\\ndiscount: {discount}')\n",
        "  else:\n",
        "        print('no matching products found')"
      ]
    },
    {
      "cell_type": "code",
      "execution_count": null,
      "metadata": {
        "colab": {
          "base_uri": "https://localhost:8080/"
        },
        "id": "d65DHLo7KJRj",
        "outputId": "14cdfc98-2b87-4f6b-ec7f-75154ab12de7"
      },
      "outputs": [
        {
          "name": "stdout",
          "output_type": "stream",
          "text": [
            "no matching products found\n",
            "None\n"
          ]
        }
      ],
      "source": [
        "\n",
        "print(scDaraz(daraz_cont))"
      ]
    },
    {
      "cell_type": "code",
      "execution_count": null,
      "metadata": {
        "id": "_eCCvwq5BymJ"
      },
      "outputs": [],
      "source": []
    }
  ],
  "metadata": {
    "colab": {
      "provenance": []
    },
    "kernelspec": {
      "display_name": "Python 3",
      "name": "python3"
    },
    "language_info": {
      "name": "python"
    }
  },
  "nbformat": 4,
  "nbformat_minor": 0
}
