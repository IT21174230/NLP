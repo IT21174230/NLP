{
  "nbformat": 4,
  "nbformat_minor": 0,
  "metadata": {
    "colab": {
      "provenance": [],
      "mount_file_id": "13QL4fpjIkhk1Jss67FX0hk99p4U3jgym",
      "authorship_tag": "ABX9TyMtx7hAvDbGkjhW1UvkDtf/",
      "include_colab_link": true
    },
    "kernelspec": {
      "name": "python3",
      "display_name": "Python 3"
    },
    "language_info": {
      "name": "python"
    }
  },
  "cells": [
    {
      "cell_type": "markdown",
      "metadata": {
        "id": "view-in-github",
        "colab_type": "text"
      },
      "source": [
        "<a href=\"https://colab.research.google.com/github/IT21174230/NLP/blob/main/Copy_of_Sentiment_Analysis_(LogReg).ipynb\" target=\"_parent\"><img src=\"https://colab.research.google.com/assets/colab-badge.svg\" alt=\"Open In Colab\"/></a>"
      ]
    },
    {
      "cell_type": "code",
      "execution_count": null,
      "metadata": {
        "id": "5K7Ed5caJccl",
        "colab": {
          "base_uri": "https://localhost:8080/",
          "height": 206
        },
        "outputId": "a18d9fd9-f1e2-413d-a1c9-0be2f01319fc"
      },
      "outputs": [
        {
          "output_type": "execute_result",
          "data": {
            "text/plain": [
              "                                              Review  Sentiment\n",
              "0  Fast shipping but this product is very cheaply...          1\n",
              "1  This case takes so long to ship and it's not e...          1\n",
              "2  Good for not droids. Not good for iPhones. You...          1\n",
              "3  The cable was not compatible between my macboo...          1\n",
              "4  The case is nice but did not have a glow light...          1"
            ],
            "text/html": [
              "\n",
              "  <div id=\"df-e4a2b86a-a030-4136-9c54-fa995d06a72e\" class=\"colab-df-container\">\n",
              "    <div>\n",
              "<style scoped>\n",
              "    .dataframe tbody tr th:only-of-type {\n",
              "        vertical-align: middle;\n",
              "    }\n",
              "\n",
              "    .dataframe tbody tr th {\n",
              "        vertical-align: top;\n",
              "    }\n",
              "\n",
              "    .dataframe thead th {\n",
              "        text-align: right;\n",
              "    }\n",
              "</style>\n",
              "<table border=\"1\" class=\"dataframe\">\n",
              "  <thead>\n",
              "    <tr style=\"text-align: right;\">\n",
              "      <th></th>\n",
              "      <th>Review</th>\n",
              "      <th>Sentiment</th>\n",
              "    </tr>\n",
              "  </thead>\n",
              "  <tbody>\n",
              "    <tr>\n",
              "      <th>0</th>\n",
              "      <td>Fast shipping but this product is very cheaply...</td>\n",
              "      <td>1</td>\n",
              "    </tr>\n",
              "    <tr>\n",
              "      <th>1</th>\n",
              "      <td>This case takes so long to ship and it's not e...</td>\n",
              "      <td>1</td>\n",
              "    </tr>\n",
              "    <tr>\n",
              "      <th>2</th>\n",
              "      <td>Good for not droids. Not good for iPhones. You...</td>\n",
              "      <td>1</td>\n",
              "    </tr>\n",
              "    <tr>\n",
              "      <th>3</th>\n",
              "      <td>The cable was not compatible between my macboo...</td>\n",
              "      <td>1</td>\n",
              "    </tr>\n",
              "    <tr>\n",
              "      <th>4</th>\n",
              "      <td>The case is nice but did not have a glow light...</td>\n",
              "      <td>1</td>\n",
              "    </tr>\n",
              "  </tbody>\n",
              "</table>\n",
              "</div>\n",
              "    <div class=\"colab-df-buttons\">\n",
              "\n",
              "  <div class=\"colab-df-container\">\n",
              "    <button class=\"colab-df-convert\" onclick=\"convertToInteractive('df-e4a2b86a-a030-4136-9c54-fa995d06a72e')\"\n",
              "            title=\"Convert this dataframe to an interactive table.\"\n",
              "            style=\"display:none;\">\n",
              "\n",
              "  <svg xmlns=\"http://www.w3.org/2000/svg\" height=\"24px\" viewBox=\"0 -960 960 960\">\n",
              "    <path d=\"M120-120v-720h720v720H120Zm60-500h600v-160H180v160Zm220 220h160v-160H400v160Zm0 220h160v-160H400v160ZM180-400h160v-160H180v160Zm440 0h160v-160H620v160ZM180-180h160v-160H180v160Zm440 0h160v-160H620v160Z\"/>\n",
              "  </svg>\n",
              "    </button>\n",
              "\n",
              "  <style>\n",
              "    .colab-df-container {\n",
              "      display:flex;\n",
              "      gap: 12px;\n",
              "    }\n",
              "\n",
              "    .colab-df-convert {\n",
              "      background-color: #E8F0FE;\n",
              "      border: none;\n",
              "      border-radius: 50%;\n",
              "      cursor: pointer;\n",
              "      display: none;\n",
              "      fill: #1967D2;\n",
              "      height: 32px;\n",
              "      padding: 0 0 0 0;\n",
              "      width: 32px;\n",
              "    }\n",
              "\n",
              "    .colab-df-convert:hover {\n",
              "      background-color: #E2EBFA;\n",
              "      box-shadow: 0px 1px 2px rgba(60, 64, 67, 0.3), 0px 1px 3px 1px rgba(60, 64, 67, 0.15);\n",
              "      fill: #174EA6;\n",
              "    }\n",
              "\n",
              "    .colab-df-buttons div {\n",
              "      margin-bottom: 4px;\n",
              "    }\n",
              "\n",
              "    [theme=dark] .colab-df-convert {\n",
              "      background-color: #3B4455;\n",
              "      fill: #D2E3FC;\n",
              "    }\n",
              "\n",
              "    [theme=dark] .colab-df-convert:hover {\n",
              "      background-color: #434B5C;\n",
              "      box-shadow: 0px 1px 3px 1px rgba(0, 0, 0, 0.15);\n",
              "      filter: drop-shadow(0px 1px 2px rgba(0, 0, 0, 0.3));\n",
              "      fill: #FFFFFF;\n",
              "    }\n",
              "  </style>\n",
              "\n",
              "    <script>\n",
              "      const buttonEl =\n",
              "        document.querySelector('#df-e4a2b86a-a030-4136-9c54-fa995d06a72e button.colab-df-convert');\n",
              "      buttonEl.style.display =\n",
              "        google.colab.kernel.accessAllowed ? 'block' : 'none';\n",
              "\n",
              "      async function convertToInteractive(key) {\n",
              "        const element = document.querySelector('#df-e4a2b86a-a030-4136-9c54-fa995d06a72e');\n",
              "        const dataTable =\n",
              "          await google.colab.kernel.invokeFunction('convertToInteractive',\n",
              "                                                    [key], {});\n",
              "        if (!dataTable) return;\n",
              "\n",
              "        const docLinkHtml = 'Like what you see? Visit the ' +\n",
              "          '<a target=\"_blank\" href=https://colab.research.google.com/notebooks/data_table.ipynb>data table notebook</a>'\n",
              "          + ' to learn more about interactive tables.';\n",
              "        element.innerHTML = '';\n",
              "        dataTable['output_type'] = 'display_data';\n",
              "        await google.colab.output.renderOutput(dataTable, element);\n",
              "        const docLink = document.createElement('div');\n",
              "        docLink.innerHTML = docLinkHtml;\n",
              "        element.appendChild(docLink);\n",
              "      }\n",
              "    </script>\n",
              "  </div>\n",
              "\n",
              "\n",
              "<div id=\"df-918ac7ae-bf5a-4091-ae8a-72b3a9022598\">\n",
              "  <button class=\"colab-df-quickchart\" onclick=\"quickchart('df-918ac7ae-bf5a-4091-ae8a-72b3a9022598')\"\n",
              "            title=\"Suggest charts\"\n",
              "            style=\"display:none;\">\n",
              "\n",
              "<svg xmlns=\"http://www.w3.org/2000/svg\" height=\"24px\"viewBox=\"0 0 24 24\"\n",
              "     width=\"24px\">\n",
              "    <g>\n",
              "        <path d=\"M19 3H5c-1.1 0-2 .9-2 2v14c0 1.1.9 2 2 2h14c1.1 0 2-.9 2-2V5c0-1.1-.9-2-2-2zM9 17H7v-7h2v7zm4 0h-2V7h2v10zm4 0h-2v-4h2v4z\"/>\n",
              "    </g>\n",
              "</svg>\n",
              "  </button>\n",
              "\n",
              "<style>\n",
              "  .colab-df-quickchart {\n",
              "      --bg-color: #E8F0FE;\n",
              "      --fill-color: #1967D2;\n",
              "      --hover-bg-color: #E2EBFA;\n",
              "      --hover-fill-color: #174EA6;\n",
              "      --disabled-fill-color: #AAA;\n",
              "      --disabled-bg-color: #DDD;\n",
              "  }\n",
              "\n",
              "  [theme=dark] .colab-df-quickchart {\n",
              "      --bg-color: #3B4455;\n",
              "      --fill-color: #D2E3FC;\n",
              "      --hover-bg-color: #434B5C;\n",
              "      --hover-fill-color: #FFFFFF;\n",
              "      --disabled-bg-color: #3B4455;\n",
              "      --disabled-fill-color: #666;\n",
              "  }\n",
              "\n",
              "  .colab-df-quickchart {\n",
              "    background-color: var(--bg-color);\n",
              "    border: none;\n",
              "    border-radius: 50%;\n",
              "    cursor: pointer;\n",
              "    display: none;\n",
              "    fill: var(--fill-color);\n",
              "    height: 32px;\n",
              "    padding: 0;\n",
              "    width: 32px;\n",
              "  }\n",
              "\n",
              "  .colab-df-quickchart:hover {\n",
              "    background-color: var(--hover-bg-color);\n",
              "    box-shadow: 0 1px 2px rgba(60, 64, 67, 0.3), 0 1px 3px 1px rgba(60, 64, 67, 0.15);\n",
              "    fill: var(--button-hover-fill-color);\n",
              "  }\n",
              "\n",
              "  .colab-df-quickchart-complete:disabled,\n",
              "  .colab-df-quickchart-complete:disabled:hover {\n",
              "    background-color: var(--disabled-bg-color);\n",
              "    fill: var(--disabled-fill-color);\n",
              "    box-shadow: none;\n",
              "  }\n",
              "\n",
              "  .colab-df-spinner {\n",
              "    border: 2px solid var(--fill-color);\n",
              "    border-color: transparent;\n",
              "    border-bottom-color: var(--fill-color);\n",
              "    animation:\n",
              "      spin 1s steps(1) infinite;\n",
              "  }\n",
              "\n",
              "  @keyframes spin {\n",
              "    0% {\n",
              "      border-color: transparent;\n",
              "      border-bottom-color: var(--fill-color);\n",
              "      border-left-color: var(--fill-color);\n",
              "    }\n",
              "    20% {\n",
              "      border-color: transparent;\n",
              "      border-left-color: var(--fill-color);\n",
              "      border-top-color: var(--fill-color);\n",
              "    }\n",
              "    30% {\n",
              "      border-color: transparent;\n",
              "      border-left-color: var(--fill-color);\n",
              "      border-top-color: var(--fill-color);\n",
              "      border-right-color: var(--fill-color);\n",
              "    }\n",
              "    40% {\n",
              "      border-color: transparent;\n",
              "      border-right-color: var(--fill-color);\n",
              "      border-top-color: var(--fill-color);\n",
              "    }\n",
              "    60% {\n",
              "      border-color: transparent;\n",
              "      border-right-color: var(--fill-color);\n",
              "    }\n",
              "    80% {\n",
              "      border-color: transparent;\n",
              "      border-right-color: var(--fill-color);\n",
              "      border-bottom-color: var(--fill-color);\n",
              "    }\n",
              "    90% {\n",
              "      border-color: transparent;\n",
              "      border-bottom-color: var(--fill-color);\n",
              "    }\n",
              "  }\n",
              "</style>\n",
              "\n",
              "  <script>\n",
              "    async function quickchart(key) {\n",
              "      const quickchartButtonEl =\n",
              "        document.querySelector('#' + key + ' button');\n",
              "      quickchartButtonEl.disabled = true;  // To prevent multiple clicks.\n",
              "      quickchartButtonEl.classList.add('colab-df-spinner');\n",
              "      try {\n",
              "        const charts = await google.colab.kernel.invokeFunction(\n",
              "            'suggestCharts', [key], {});\n",
              "      } catch (error) {\n",
              "        console.error('Error during call to suggestCharts:', error);\n",
              "      }\n",
              "      quickchartButtonEl.classList.remove('colab-df-spinner');\n",
              "      quickchartButtonEl.classList.add('colab-df-quickchart-complete');\n",
              "    }\n",
              "    (() => {\n",
              "      let quickchartButtonEl =\n",
              "        document.querySelector('#df-918ac7ae-bf5a-4091-ae8a-72b3a9022598 button');\n",
              "      quickchartButtonEl.style.display =\n",
              "        google.colab.kernel.accessAllowed ? 'block' : 'none';\n",
              "    })();\n",
              "  </script>\n",
              "</div>\n",
              "\n",
              "    </div>\n",
              "  </div>\n"
            ]
          },
          "metadata": {},
          "execution_count": 17
        }
      ],
      "source": [
        "import pandas as pd\n",
        "\n",
        "dataset='/content/drive/MyDrive/AmazonReview.csv'\n",
        "data=pd.read_csv(dataset)\n",
        "\n",
        "data.head()"
      ]
    },
    {
      "cell_type": "code",
      "source": [
        "data.info()\n",
        "\n",
        "data.isnull().sum()"
      ],
      "metadata": {
        "colab": {
          "base_uri": "https://localhost:8080/"
        },
        "id": "7vaXMu5-nwk7",
        "outputId": "75e7f05e-94e7-4832-9846-6114f8a55178"
      },
      "execution_count": null,
      "outputs": [
        {
          "output_type": "stream",
          "name": "stdout",
          "text": [
            "<class 'pandas.core.frame.DataFrame'>\n",
            "RangeIndex: 25000 entries, 0 to 24999\n",
            "Data columns (total 2 columns):\n",
            " #   Column     Non-Null Count  Dtype \n",
            "---  ------     --------------  ----- \n",
            " 0   Review     24999 non-null  object\n",
            " 1   Sentiment  25000 non-null  int64 \n",
            "dtypes: int64(1), object(1)\n",
            "memory usage: 390.8+ KB\n"
          ]
        },
        {
          "output_type": "execute_result",
          "data": {
            "text/plain": [
              "Review       1\n",
              "Sentiment    0\n",
              "dtype: int64"
            ]
          },
          "metadata": {},
          "execution_count": 2
        }
      ]
    },
    {
      "cell_type": "code",
      "source": [
        "data.dropna(inplace=True)"
      ],
      "metadata": {
        "id": "355U1w_ntwha"
      },
      "execution_count": null,
      "outputs": []
    },
    {
      "cell_type": "code",
      "source": [
        "data = data.dropna(subset=['Review'])"
      ],
      "metadata": {
        "id": "dToCEEoM1DEP"
      },
      "execution_count": null,
      "outputs": []
    },
    {
      "cell_type": "code",
      "source": [
        "import matplotlib.pyplot as plt\n",
        "\n",
        "y_value_counts=data['Sentiment'].value_counts()\n",
        "print(y_value_counts)\n",
        "\n",
        "y_labels=['Highly Negative', 'Negative', 'Neutral', 'Positive', 'Highly Positive']\n",
        "\n",
        "plt.bar(y_labels, y_value_counts.values)\n",
        "plt.xlabel('Sentiment')\n",
        "plt.ylabel('Count')\n",
        "plt.show()"
      ],
      "metadata": {
        "colab": {
          "base_uri": "https://localhost:8080/",
          "height": 559
        },
        "id": "UOHGkcwxt8GZ",
        "outputId": "8a79f876-6170-45b7-e7a5-b89ea58292d4"
      },
      "execution_count": null,
      "outputs": [
        {
          "output_type": "stream",
          "name": "stdout",
          "text": [
            "1    5000\n",
            "2    5000\n",
            "3    5000\n",
            "4    5000\n",
            "5    4999\n",
            "Name: Sentiment, dtype: int64\n"
          ]
        },
        {
          "output_type": "display_data",
          "data": {
            "text/plain": [
              "<Figure size 640x480 with 1 Axes>"
            ],
            "image/png": "[encoded data removed]"
          },
          "metadata": {}
        }
      ]
    },
    {
      "cell_type": "code",
      "source": [
        "data = data.sample(frac = 1)"
      ],
      "metadata": {
        "id": "8nH-WF7c45bt"
      },
      "execution_count": null,
      "outputs": []
    },
    {
      "cell_type": "code",
      "source": [
        "data.head()"
      ],
      "metadata": {
        "colab": {
          "base_uri": "https://localhost:8080/",
          "height": 206
        },
        "id": "Qq-Z4DVhTZxe",
        "outputId": "4984cdcc-d0c7-4990-b1f2-664b52a64efb"
      },
      "execution_count": null,
      "outputs": [
        {
          "output_type": "execute_result",
          "data": {
            "text/plain": [
              "                                                  Review  Sentiment\n",
              "9074   Got mine today, no instructions excepting what...          2\n",
              "22561  I gave this a five star rating, because it loo...          5\n",
              "10320  this case looked great, and it protects my ipo...          3\n",
              "19169  Doesn't fit in an iphone 6 lifeproof case port...          4\n",
              "19764  I bought this as I was going to a music festiv...          4"
            ],
            "text/html": [
              "\n",
              "  <div id=\"df-afde832a-6470-4319-8894-05fac9f49015\" class=\"colab-df-container\">\n",
              "    <div>\n",
              "<style scoped>\n",
              "    .dataframe tbody tr th:only-of-type {\n",
              "        vertical-align: middle;\n",
              "    }\n",
              "\n",
              "    .dataframe tbody tr th {\n",
              "        vertical-align: top;\n",
              "    }\n",
              "\n",
              "    .dataframe thead th {\n",
              "        text-align: right;\n",
              "    }\n",
              "</style>\n",
              "<table border=\"1\" class=\"dataframe\">\n",
              "  <thead>\n",
              "    <tr style=\"text-align: right;\">\n",
              "      <th></th>\n",
              "      <th>Review</th>\n",
              "      <th>Sentiment</th>\n",
              "    </tr>\n",
              "  </thead>\n",
              "  <tbody>\n",
              "    <tr>\n",
              "      <th>9074</th>\n",
              "      <td>Got mine today, no instructions excepting what...</td>\n",
              "      <td>2</td>\n",
              "    </tr>\n",
              "    <tr>\n",
              "      <th>22561</th>\n",
              "      <td>I gave this a five star rating, because it loo...</td>\n",
              "      <td>5</td>\n",
              "    </tr>\n",
              "    <tr>\n",
              "      <th>10320</th>\n",
              "      <td>this case looked great, and it protects my ipo...</td>\n",
              "      <td>3</td>\n",
              "    </tr>\n",
              "    <tr>\n",
              "      <th>19169</th>\n",
              "      <td>Doesn't fit in an iphone 6 lifeproof case port...</td>\n",
              "      <td>4</td>\n",
              "    </tr>\n",
              "    <tr>\n",
              "      <th>19764</th>\n",
              "      <td>I bought this as I was going to a music festiv...</td>\n",
              "      <td>4</td>\n",
              "    </tr>\n",
              "  </tbody>\n",
              "</table>\n",
              "</div>\n",
              "    <div class=\"colab-df-buttons\">\n",
              "\n",
              "  <div class=\"colab-df-container\">\n",
              "    <button class=\"colab-df-convert\" onclick=\"convertToInteractive('df-afde832a-6470-4319-8894-05fac9f49015')\"\n",
              "            title=\"Convert this dataframe to an interactive table.\"\n",
              "            style=\"display:none;\">\n",
              "\n",
              "  <svg xmlns=\"http://www.w3.org/2000/svg\" height=\"24px\" viewBox=\"0 -960 960 960\">\n",
              "    <path d=\"M120-120v-720h720v720H120Zm60-500h600v-160H180v160Zm220 220h160v-160H400v160Zm0 220h160v-160H400v160ZM180-400h160v-160H180v160Zm440 0h160v-160H620v160ZM180-180h160v-160H180v160Zm440 0h160v-160H620v160Z\"/>\n",
              "  </svg>\n",
              "    </button>\n",
              "\n",
              "  <style>\n",
              "    .colab-df-container {\n",
              "      display:flex;\n",
              "      gap: 12px;\n",
              "    }\n",
              "\n",
              "    .colab-df-convert {\n",
              "      background-color: #E8F0FE;\n",
              "      border: none;\n",
              "      border-radius: 50%;\n",
              "      cursor: pointer;\n",
              "      display: none;\n",
              "      fill: #1967D2;\n",
              "      height: 32px;\n",
              "      padding: 0 0 0 0;\n",
              "      width: 32px;\n",
              "    }\n",
              "\n",
              "    .colab-df-convert:hover {\n",
              "      background-color: #E2EBFA;\n",
              "      box-shadow: 0px 1px 2px rgba(60, 64, 67, 0.3), 0px 1px 3px 1px rgba(60, 64, 67, 0.15);\n",
              "      fill: #174EA6;\n",
              "    }\n",
              "\n",
              "    .colab-df-buttons div {\n",
              "      margin-bottom: 4px;\n",
              "    }\n",
              "\n",
              "    [theme=dark] .colab-df-convert {\n",
              "      background-color: #3B4455;\n",
              "      fill: #D2E3FC;\n",
              "    }\n",
              "\n",
              "    [theme=dark] .colab-df-convert:hover {\n",
              "      background-color: #434B5C;\n",
              "      box-shadow: 0px 1px 3px 1px rgba(0, 0, 0, 0.15);\n",
              "      filter: drop-shadow(0px 1px 2px rgba(0, 0, 0, 0.3));\n",
              "      fill: #FFFFFF;\n",
              "    }\n",
              "  </style>\n",
              "\n",
              "    <script>\n",
              "      const buttonEl =\n",
              "        document.querySelector('#df-afde832a-6470-4319-8894-05fac9f49015 button.colab-df-convert');\n",
              "      buttonEl.style.display =\n",
              "        google.colab.kernel.accessAllowed ? 'block' : 'none';\n",
              "\n",
              "      async function convertToInteractive(key) {\n",
              "        const element = document.querySelector('#df-afde832a-6470-4319-8894-05fac9f49015');\n",
              "        const dataTable =\n",
              "          await google.colab.kernel.invokeFunction('convertToInteractive',\n",
              "                                                    [key], {});\n",
              "        if (!dataTable) return;\n",
              "\n",
              "        const docLinkHtml = 'Like what you see? Visit the ' +\n",
              "          '<a target=\"_blank\" href=https://colab.research.google.com/notebooks/data_table.ipynb>data table notebook</a>'\n",
              "          + ' to learn more about interactive tables.';\n",
              "        element.innerHTML = '';\n",
              "        dataTable['output_type'] = 'display_data';\n",
              "        await google.colab.output.renderOutput(dataTable, element);\n",
              "        const docLink = document.createElement('div');\n",
              "        docLink.innerHTML = docLinkHtml;\n",
              "        element.appendChild(docLink);\n",
              "      }\n",
              "    </script>\n",
              "  </div>\n",
              "\n",
              "\n",
              "<div id=\"df-883557ea-6b4e-41fd-a7b9-1676408eabb3\">\n",
              "  <button class=\"colab-df-quickchart\" onclick=\"quickchart('df-883557ea-6b4e-41fd-a7b9-1676408eabb3')\"\n",
              "            title=\"Suggest charts\"\n",
              "            style=\"display:none;\">\n",
              "\n",
              "<svg xmlns=\"http://www.w3.org/2000/svg\" height=\"24px\"viewBox=\"0 0 24 24\"\n",
              "     width=\"24px\">\n",
              "    <g>\n",
              "        <path d=\"M19 3H5c-1.1 0-2 .9-2 2v14c0 1.1.9 2 2 2h14c1.1 0 2-.9 2-2V5c0-1.1-.9-2-2-2zM9 17H7v-7h2v7zm4 0h-2V7h2v10zm4 0h-2v-4h2v4z\"/>\n",
              "    </g>\n",
              "</svg>\n",
              "  </button>\n",
              "\n",
              "<style>\n",
              "  .colab-df-quickchart {\n",
              "      --bg-color: #E8F0FE;\n",
              "      --fill-color: #1967D2;\n",
              "      --hover-bg-color: #E2EBFA;\n",
              "      --hover-fill-color: #174EA6;\n",
              "      --disabled-fill-color: #AAA;\n",
              "      --disabled-bg-color: #DDD;\n",
              "  }\n",
              "\n",
              "  [theme=dark] .colab-df-quickchart {\n",
              "      --bg-color: #3B4455;\n",
              "      --fill-color: #D2E3FC;\n",
              "      --hover-bg-color: #434B5C;\n",
              "      --hover-fill-color: #FFFFFF;\n",
              "      --disabled-bg-color: #3B4455;\n",
              "      --disabled-fill-color: #666;\n",
              "  }\n",
              "\n",
              "  .colab-df-quickchart {\n",
              "    background-color: var(--bg-color);\n",
              "    border: none;\n",
              "    border-radius: 50%;\n",
              "    cursor: pointer;\n",
              "    display: none;\n",
              "    fill: var(--fill-color);\n",
              "    height: 32px;\n",
              "    padding: 0;\n",
              "    width: 32px;\n",
              "  }\n",
              "\n",
              "  .colab-df-quickchart:hover {\n",
              "    background-color: var(--hover-bg-color);\n",
              "    box-shadow: 0 1px 2px rgba(60, 64, 67, 0.3), 0 1px 3px 1px rgba(60, 64, 67, 0.15);\n",
              "    fill: var(--button-hover-fill-color);\n",
              "  }\n",
              "\n",
              "  .colab-df-quickchart-complete:disabled,\n",
              "  .colab-df-quickchart-complete:disabled:hover {\n",
              "    background-color: var(--disabled-bg-color);\n",
              "    fill: var(--disabled-fill-color);\n",
              "    box-shadow: none;\n",
              "  }\n",
              "\n",
              "  .colab-df-spinner {\n",
              "    border: 2px solid var(--fill-color);\n",
              "    border-color: transparent;\n",
              "    border-bottom-color: var(--fill-color);\n",
              "    animation:\n",
              "      spin 1s steps(1) infinite;\n",
              "  }\n",
              "\n",
              "  @keyframes spin {\n",
              "    0% {\n",
              "      border-color: transparent;\n",
              "      border-bottom-color: var(--fill-color);\n",
              "      border-left-color: var(--fill-color);\n",
              "    }\n",
              "    20% {\n",
              "      border-color: transparent;\n",
              "      border-left-color: var(--fill-color);\n",
              "      border-top-color: var(--fill-color);\n",
              "    }\n",
              "    30% {\n",
              "      border-color: transparent;\n",
              "      border-left-color: var(--fill-color);\n",
              "      border-top-color: var(--fill-color);\n",
              "      border-right-color: var(--fill-color);\n",
              "    }\n",
              "    40% {\n",
              "      border-color: transparent;\n",
              "      border-right-color: var(--fill-color);\n",
              "      border-top-color: var(--fill-color);\n",
              "    }\n",
              "    60% {\n",
              "      border-color: transparent;\n",
              "      border-right-color: var(--fill-color);\n",
              "    }\n",
              "    80% {\n",
              "      border-color: transparent;\n",
              "      border-right-color: var(--fill-color);\n",
              "      border-bottom-color: var(--fill-color);\n",
              "    }\n",
              "    90% {\n",
              "      border-color: transparent;\n",
              "      border-bottom-color: var(--fill-color);\n",
              "    }\n",
              "  }\n",
              "</style>\n",
              "\n",
              "  <script>\n",
              "    async function quickchart(key) {\n",
              "      const quickchartButtonEl =\n",
              "        document.querySelector('#' + key + ' button');\n",
              "      quickchartButtonEl.disabled = true;  // To prevent multiple clicks.\n",
              "      quickchartButtonEl.classList.add('colab-df-spinner');\n",
              "      try {\n",
              "        const charts = await google.colab.kernel.invokeFunction(\n",
              "            'suggestCharts', [key], {});\n",
              "      } catch (error) {\n",
              "        console.error('Error during call to suggestCharts:', error);\n",
              "      }\n",
              "      quickchartButtonEl.classList.remove('colab-df-spinner');\n",
              "      quickchartButtonEl.classList.add('colab-df-quickchart-complete');\n",
              "    }\n",
              "    (() => {\n",
              "      let quickchartButtonEl =\n",
              "        document.querySelector('#df-883557ea-6b4e-41fd-a7b9-1676408eabb3 button');\n",
              "      quickchartButtonEl.style.display =\n",
              "        google.colab.kernel.accessAllowed ? 'block' : 'none';\n",
              "    })();\n",
              "  </script>\n",
              "</div>\n",
              "\n",
              "    </div>\n",
              "  </div>\n"
            ]
          },
          "metadata": {},
          "execution_count": 9
        }
      ]
    },
    {
      "cell_type": "code",
      "source": [
        "reviews=[]\n",
        "\n",
        "import re\n",
        "\n",
        "for i in data['Review']:\n",
        "  j=re.sub(r'[^a-zA-Z0-9\\s]', '', i)\n",
        "  reviews.append(j.lower())\n",
        "\n",
        "print(reviews[10:15])\n",
        "\n"
      ],
      "metadata": {
        "colab": {
          "base_uri": "https://localhost:8080/"
        },
        "id": "U-TIup-7e5LC",
        "outputId": "ac1466d4-d179-479c-9e2f-884cee1aac78"
      },
      "execution_count": null,
      "outputs": [
        {
          "output_type": "stream",
          "name": "stdout",
          "text": [
            "['these ear buds are smaller than my originals and are gellike instead of the marshmellowy consistency im used to and dont block as much noise as my originals however the sellers service and delivery time is excellent', 'ended up not needing them', 'i got this case for my garmin 60csx this case felt great it had 3 compartments for stuff and built really well i put my car plug in one compartment  the usb cable in another but the 60csx does not exactly fit well in the middle one disappointed kinda but the overall quality of the product kept me happy battery compartment in the center compartment but due to the gpss length is not condusive to using', 'asinb000vxqh6w 2gb waterproof mp3 player w screenboasinb001f8tg42 h2o audio amphibx waterproof armband for medium mp3 players and phones  i bought freestyle waterproof mp3 player in nov 08 to use swimming laps i told everyone at the ymca how great it was then in dec it died i bought a new one thinking that maybe it was my fault for using it in the shower that died in jan i sent both back to the mfg they did replace both of them but told me that there was nothing wrong with the ones i returned bull i am not an idiot so i used one of the new ones for 2 months and it died i used the last one for 1 month and it also died that is 4 units in less than 9 months all had a different death two were just dead as a stone one just showed the reset blue and yellow screen and the last just flashes the menu over and over and you cannot choose anything i contacted the mfg 2 weeks ago but heard nothing if you want a nice player that works for maybe 30 days it is good i bought an ipod and a waterproof case i am hoping that solves my problem the h2o amphibx armband does not please me either  too hard to put ipod in it', 'this item has a lot of bang for its buck at only 13 especially compared to the price of a cassette to mp3 adaptorbr there is no point in telling you the good things it does as they are on the product advert so ill mention the few downsidesbr because the attachment to the lighter slot only goes in a small part of the way it is easy to pull the unit out completely while fiddling  pressing buttons  moving the angle to see the face better frustratingbr the reception can sometimes be a bit dodgy although this might be due to atmospheric conditions rather than a product issuebr the remote sometimes has to be pointing at the right angle towards the device to work other times it can be just used like a regular remotebr the display is almost useless because of its size you can tell its on and you can see the artist  song scroll through if you look closely but you are supposed to be driving man watch the roadbr the volume is considerably lower than the regular fm stations so be prepared for a shock if you switch off or switch overbr overall this delivers pretty much everything that is claimed in the advert and it represents fantastic value for money compared to almost any other option around to have 16gb of my own music available at my fingertips in my 12 year old car is worth way more than the price i paidbr i would recommend this product very highly to anyone considering their mp3 in car options']\n"
          ]
        }
      ]
    },
    {
      "cell_type": "code",
      "source": [
        "print(reviews[5])"
      ],
      "metadata": {
        "colab": {
          "base_uri": "https://localhost:8080/"
        },
        "id": "rXeRU3mwNL66",
        "outputId": "dad8914e-9a8d-4eac-bcf0-2c1d2a6e1432"
      },
      "execution_count": null,
      "outputs": [
        {
          "output_type": "stream",
          "name": "stdout",
          "text": [
            "this is a cheap plastic box period  i was disappointed in the fact that there isnt a headphone jack charging port volume keys i wish i can find a way to send this back to get my money back any way the front cover is made of sticky rubber that kind which attract dusthair n sand dont waste you money\n"
          ]
        }
      ]
    },
    {
      "cell_type": "code",
      "source": [
        "import nltk\n",
        "from nltk.corpus import stopwords\n",
        "from nltk.tokenize import word_tokenize\n",
        "nltk.download('stopwords')\n",
        "nltk.download('punkt')\n",
        "\n",
        "stop_list=stopwords.words('english')\n",
        "\n",
        "tokens_list=[]\n",
        "\n",
        "for i in range(len(reviews)):\n",
        "  tokens=word_tokenize(reviews[i])\n",
        "  j=[]\n",
        "  for token in tokens:\n",
        "    if token not in stop_list:\n",
        "      j.append(token)\n",
        "  tokens_list.append(j)\n",
        "  reviews[i]=' '.join(j)\n",
        "\n",
        "print(reviews[5])"
      ],
      "metadata": {
        "id": "tAHXUsJx1XcI",
        "outputId": "61bcb992-ad57-4aa3-9858-85fa7afbf47f",
        "colab": {
          "base_uri": "https://localhost:8080/"
        }
      },
      "execution_count": null,
      "outputs": [
        {
          "output_type": "stream",
          "name": "stderr",
          "text": [
            "[nltk_data] Downloading package stopwords to /root/nltk_data...\n",
            "[nltk_data]   Package stopwords is already up-to-date!\n",
            "[nltk_data] Downloading package punkt to /root/nltk_data...\n",
            "[nltk_data]   Package punkt is already up-to-date!\n"
          ]
        },
        {
          "output_type": "stream",
          "name": "stdout",
          "text": [
            "works good make sure mounted properly car music fades\n"
          ]
        }
      ]
    },
    {
      "cell_type": "code",
      "source": [
        "print(tokens_list[:5])"
      ],
      "metadata": {
        "id": "Ca4wY9yA0bsr",
        "outputId": "8baf929c-0e5c-4544-f83c-216cb9e69e0b",
        "colab": {
          "base_uri": "https://localhost:8080/"
        }
      },
      "execution_count": null,
      "outputs": [
        {
          "output_type": "stream",
          "name": "stdout",
          "text": [
            "[['good', 'software', 'bad'], ['docking', 'station', 'doesnt', 'produce', 'audio', 'rca', 'jack', 'itouch', '2g', 'spend', 'extra', 'bucks', 'rca', 'audiovideo', 'ipod', 'touch', 'connector', 'cable', 'ad', 'implies', 'rca', 'works', 'ipods', 'buyer', 'beware'], ['case', 'keyboard', 'combination', 'works', 'great', 'bn', 'nook', 'hd', 'love', 'fits', 'perfectly', 'keyboard', 'functional', 'nook', 'like', 'minilaptop', 'price', 'makes', 'incredible', 'value', 'since', 'referred', 'ionic', 'casekeyboard', 'product', 'line', 'three', 'people'], ['run', 'special', 'events', 'sport', 'events', 'several', 'time', 'year', 'similar', 'design', 'megaphones', 'used', 'seems', 'like', 'good', 'quality', 'plastic', 'feels', 'sturdy', 'uses', 'half', 'batteries', 'similarly', 'powered', 'models', 'means', 'less', 'weight', 'less', 'cost', 'operate', 'works', 'well', 'easily', 'lasted', '3', 'half', 'days', 'constant', 'use', 'seems', 'like', 'battery', 'compartment', 'hinge', 'clasp', 'might', 'prone', 'break', 'needed', 'new', 'ones', 'begin', 'cant', 'beat', 'price'], ['disappointed', 'product', 'read', 'comments', 'left', 'customers', 'amazon', 'thought', 'would', 'take', 'chance', 'unfortunately', 'much', 'choose', 'comes', 'covers', 'accessories', 'creative', 'zen', 'products', 'first', 'complaint', 'comes', 'ridiculous', 'amount', 'shipping', 'charged', 'almost', 'amount', 'product', 'slip', 'case', 'comes', 'small', 'plastic', 'bag', 'arm', 'band', 'another', 'small', 'plastic', 'bag', 'store', 'could', 'easily', 'mail', '350', 'onto', 'product', 'screen', 'insert', 'ok', 'might', 'useful', 'left', 'protective', 'screen', 'came', 'player', 'removed', 'flip', 'screen', 'case', 'held', 'kind', 'flimsy', 'anyways', 'pretty', 'sure', 'case', 'slids', 'around', 'would', 'pop', 'silicone', 'slip', 'case', 'fits', 'alright', 'holes', 'cut', 'different', 'buttons', 'look', 'like', 'child', 'grade', 'school', 'cut', 'xacto', 'knife', 'plus', 'bottom', 'hole', 'charging', 'adapter', 'made', 'hard', 'plug', 'adapter', 'ended', 'take', 'case', 'charge', 'kick', 'stand', 'back', 'joke', 'really', 'wanted', 'arm', 'band', 'could', 'workout', 'player', 'hold', 'case', 'hopefully', 'guard', 'wear', 'tear', 'guess', 'ill', 'find', 'though', 'bit', 'use', 'since', 'isnt', 'anything', 'else', 'available', 'stores', 'believe', 'looked', 'product', 'wish', 'didnt', 'cost', 'almost', '20', 'get']]\n"
          ]
        }
      ]
    },
    {
      "cell_type": "code",
      "source": [
        "!pip install Gensim"
      ],
      "metadata": {
        "id": "Ah9xkL6f_DQd",
        "outputId": "a20530dc-2d6a-4677-cc55-586bbf1d5464",
        "colab": {
          "base_uri": "https://localhost:8080/"
        }
      },
      "execution_count": null,
      "outputs": [
        {
          "output_type": "stream",
          "name": "stdout",
          "text": [
            "Requirement already satisfied: Gensim in /usr/local/lib/python3.10/dist-packages (4.3.2)\n",
            "Requirement already satisfied: numpy>=1.18.5 in /usr/local/lib/python3.10/dist-packages (from Gensim) (1.23.5)\n",
            "Requirement already satisfied: scipy>=1.7.0 in /usr/local/lib/python3.10/dist-packages (from Gensim) (1.11.4)\n",
            "Requirement already satisfied: smart-open>=1.8.1 in /usr/local/lib/python3.10/dist-packages (from Gensim) (6.4.0)\n"
          ]
        }
      ]
    },
    {
      "cell_type": "code",
      "source": [
        "import gensim\n",
        "from gensim.models.doc2vec import Doc2Vec, TaggedDocument\n",
        "\n",
        "tagged_data=[TaggedDocument(words=token_item, tags=[str(i)]) for i, token_item in enumerate(tokens_list)]\n"
      ],
      "metadata": {
        "id": "m7mOe0vjzAd0"
      },
      "execution_count": null,
      "outputs": []
    },
    {
      "cell_type": "code",
      "source": [
        "epochs=20\n",
        "vector_size=500\n",
        "min_count=1\n",
        "\n",
        "model=Doc2Vec(\n",
        "    vector_size=vector_size,\n",
        "    min_count=min_count,\n",
        "    epochs=epochs\n",
        ")\n",
        "\n",
        "model.build_vocab(tagged_data)\n",
        "\n",
        "model.train(tagged_data, total_examples=model.corpus_count, epochs=model.epochs)"
      ],
      "metadata": {
        "id": "XyMnMj3MKB-u"
      },
      "execution_count": null,
      "outputs": []
    },
    {
      "cell_type": "code",
      "source": [
        "model.save('reviews.model')"
      ],
      "metadata": {
        "id": "8BKPm16APz3h"
      },
      "execution_count": null,
      "outputs": []
    },
    {
      "cell_type": "code",
      "source": [
        "X=[]\n",
        "for i in range(len(reviews)):\n",
        "  X.append(model.dv[str(i)])\n",
        "\n",
        "print(X[5])"
      ],
      "metadata": {
        "id": "u5CGF7XyQT9s"
      },
      "execution_count": null,
      "outputs": []
    },
    {
      "cell_type": "code",
      "source": [
        "from sklearn.preprocessing import LabelEncoder\n",
        "\n",
        "labels=set(data['Sentiment'])\n",
        "print(labels)\n",
        "encoder=LabelEncoder()\n",
        "y=encoder.fit_transform(data['Sentiment'])\n",
        "unique=set(y)\n",
        "print(unique)"
      ],
      "metadata": {
        "id": "nvSFvwPeYhQ4",
        "outputId": "d57176a0-130d-4043-ccff-ccd6b765edc7",
        "colab": {
          "base_uri": "https://localhost:8080/"
        }
      },
      "execution_count": null,
      "outputs": [
        {
          "output_type": "stream",
          "name": "stdout",
          "text": [
            "{1, 2, 3, 4, 5}\n",
            "{0, 1, 2, 3, 4}\n"
          ]
        }
      ]
    },
    {
      "cell_type": "code",
      "source": [
        "import numpy as np\n",
        "\n",
        "y=np.array(y)\n",
        "X=np.array(X)\n",
        "\n",
        "from sklearn.model_selection import train_test_split\n",
        "\n",
        "X_train, X_test, y_train, y_test=train_test_split(X,y, test_size=0.25, random_state=42)\n",
        "\n",
        "print(X_train.shape, y_train.shape, X_test.shape, y_test.shape)"
      ],
      "metadata": {
        "colab": {
          "base_uri": "https://localhost:8080/"
        },
        "id": "HskwYRjMxSlA",
        "outputId": "40cac56c-4e8b-4687-f05d-7da3c6de0765"
      },
      "execution_count": null,
      "outputs": [
        {
          "output_type": "stream",
          "name": "stdout",
          "text": [
            "(18749, 500) (18749,) (6250, 500) (6250,)\n"
          ]
        }
      ]
    },
    {
      "cell_type": "code",
      "source": [
        "from sklearn.linear_model import LogisticRegression\n",
        "\n",
        "logregmodel=LogisticRegression(multi_class='multinomial',solver='lbfgs')\n",
        "\n",
        "param_grid={\n",
        "    'C':[0.25, 0.5,1, 2, 3, 4, 5],\n",
        "    'penalty':['l2'],\n",
        "    'max_iter':[1000]\n",
        "}\n",
        "\n",
        "from sklearn.model_selection import GridSearchCV\n",
        "\n",
        "gridsearch=GridSearchCV(estimator=logregmodel, param_grid=param_grid, scoring='accuracy', cv=4)\n",
        "gridsearch.fit(X_train, y_train)\n",
        "\n",
        "\n",
        "best_params=gridsearch.best_params_\n",
        "best_model=gridsearch.best_estimator_\n",
        "y_train_pred=best_model.predict(X_train)"
      ],
      "metadata": {
        "id": "U9e9Te2l5UuQ"
      },
      "execution_count": null,
      "outputs": []
    },
    {
      "cell_type": "code",
      "source": [
        "print(best_params)"
      ],
      "metadata": {
        "colab": {
          "base_uri": "https://localhost:8080/"
        },
        "id": "-3522fgQdgj9",
        "outputId": "d28cfe2c-78a4-47d3-9d75-2320afecb54a"
      },
      "execution_count": null,
      "outputs": [
        {
          "output_type": "stream",
          "name": "stdout",
          "text": [
            "{'C': 4, 'max_iter': 1000, 'penalty': 'l2'}\n"
          ]
        }
      ]
    },
    {
      "cell_type": "code",
      "source": [
        "from sklearn.metrics import accuracy_score, classification_report\n",
        "\n",
        "y_pred = best_model.predict(X_test)\n",
        "\n",
        "accuracy = accuracy_score(y_test, y_pred)\n",
        "print(f\"Accuracy: {accuracy:.2f}\\n\\n\")\n",
        "print(classification_report(y_test, y_pred))\n"
      ],
      "metadata": {
        "colab": {
          "base_uri": "https://localhost:8080/"
        },
        "id": "Wlbh_dx2R-ie",
        "outputId": "5c5bf01e-96ed-4a61-c16a-15381f5af36e"
      },
      "execution_count": null,
      "outputs": [
        {
          "output_type": "stream",
          "name": "stdout",
          "text": [
            "Accuracy: 0.41\n",
            "\n",
            "\n",
            "              precision    recall  f1-score   support\n",
            "\n",
            "           0       0.49      0.57      0.53      1269\n",
            "           1       0.33      0.25      0.28      1295\n",
            "           2       0.33      0.33      0.33      1215\n",
            "           3       0.37      0.30      0.33      1238\n",
            "           4       0.47      0.62      0.54      1233\n",
            "\n",
            "    accuracy                           0.41      6250\n",
            "   macro avg       0.40      0.41      0.40      6250\n",
            "weighted avg       0.40      0.41      0.40      6250\n",
            "\n"
          ]
        }
      ]
    }
  ]
}